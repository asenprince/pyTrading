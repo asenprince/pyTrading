{
 "cells": [
  {
   "cell_type": "code",
   "execution_count": 1,
   "id": "4a579df2-bbee-4d37-a740-87ff86367305",
   "metadata": {},
   "outputs": [],
   "source": [
    "import pandas as pd\n",
    "import numpy as np\n",
    "import os, sys\n",
    "from pathlib import Path"
   ]
  },
  {
   "cell_type": "code",
   "execution_count": 2,
   "id": "974dffc6-2517-4504-94c2-b5019c645a7e",
   "metadata": {},
   "outputs": [],
   "source": [
    "sys.path.append(\"C:\\\\Users\\\\cyb3r53c\\\\Desktop\\\\Python Projects\\\\MYPROJECTS\\\\new\\\\Janson\\\\UTILITIES\")"
   ]
  },
  {
   "cell_type": "code",
   "execution_count": 3,
   "id": "69dad216-9dc0-43ab-9991-6afcbbf91e17",
   "metadata": {},
   "outputs": [],
   "source": [
    "from multi_purpose_utility_function import build_and_optimize_model"
   ]
  },
  {
   "cell_type": "code",
   "execution_count": null,
   "id": "5966cf06-b6c5-434d-a9df-73b316c5e410",
   "metadata": {},
   "outputs": [
    {
     "name": "stdout",
     "output_type": "stream",
     "text": [
      "total: 478\n",
      "====================================================================================================\n",
      "lightgbm\n",
      "----------------------------------------------------------------------------------------------------\n",
      "9 30 34 37 38 45 60 77 90 91 94 98 102 112 121 122 132 138 165 168 169 176 "
     ]
    }
   ],
   "source": [
    "build_and_optimize_model(start=False)"
   ]
  },
  {
   "cell_type": "code",
   "execution_count": null,
   "id": "c47047ed-6fa2-48e1-8d06-f187afe463f5",
   "metadata": {},
   "outputs": [],
   "source": []
  }
 ],
 "metadata": {
  "kernelspec": {
   "display_name": "Python 3 (ipykernel)",
   "language": "python",
   "name": "python3"
  },
  "language_info": {
   "codemirror_mode": {
    "name": "ipython",
    "version": 3
   },
   "file_extension": ".py",
   "mimetype": "text/x-python",
   "name": "python",
   "nbconvert_exporter": "python",
   "pygments_lexer": "ipython3",
   "version": "3.9.17"
  }
 },
 "nbformat": 4,
 "nbformat_minor": 5
}
