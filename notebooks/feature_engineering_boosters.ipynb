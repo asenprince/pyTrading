{
 "cells": [
  {
   "cell_type": "code",
   "execution_count": 1,
   "id": "0ee26884-6e4c-4043-8c17-f8f078ac0e6e",
   "metadata": {},
   "outputs": [],
   "source": [
    "%matplotlib inline\n",
    "import pandas as pd\n",
    "import numpy as np\n",
    "import matplotlib.pyplot as plt\n",
    "import seaborn as sns\n",
    "import warnings\n",
    "import talib\n",
    "import re\n",
    "\n",
    "warnings.filterwarnings('ignore')\n",
    "plt.style.use('fivethirtyeight')\n",
    "idx = pd.IndexSlice"
   ]
  },
  {
   "cell_type": "markdown",
   "id": "332ae5ca-8a38-4808-9cbd-1c4235af8dc5",
   "metadata": {},
   "source": [
    "datapath = '../DATA/data.parquet'"
   ]
  },
  {
   "cell_type": "code",
   "execution_count": 2,
   "id": "4ace6f0f-a7ae-4f3d-be04-73f3757a86ed",
   "metadata": {},
   "outputs": [],
   "source": [
    "DATASTORE = '../DATA/crypto.h5'"
   ]
  },
  {
   "cell_type": "code",
   "execution_count": 3,
   "id": "6ffa5f82-74af-4018-a4dd-454382fb514a",
   "metadata": {},
   "outputs": [],
   "source": [
    "with pd.HDFStore(DATASTORE) as store:\n",
    "    #metadata = store['crypto/processed_metadata']\n",
    "    rdata = store['crypto/raw_data']\n",
    "    close = store['crypto/raw_data'].Close.unstack('asset')"
   ]
  },
  {
   "cell_type": "code",
   "execution_count": null,
   "id": "1414f419-4b92-4d19-90b1-9f99cf35991f",
   "metadata": {},
   "outputs": [],
   "source": [
    "rdata.info()"
   ]
  },
  {
   "cell_type": "markdown",
   "id": "89c735d3-df4f-44c0-9b96-dd5334adcb07",
   "metadata": {},
   "source": [
    "#### talib indicators"
   ]
  },
  {
   "cell_type": "code",
   "execution_count": 4,
   "id": "f7007438-5d21-4c0d-aa39-a2b21b0d7957",
   "metadata": {},
   "outputs": [],
   "source": [
    "def apply_ta_indicators(group):\n",
    "    highs_and_lows = {\n",
    "        'fiftyTwoWeek': 7 * 52,\n",
    "        'Quarterly': 364//4,\n",
    "        'Monthly': 364//12,\n",
    "        'Weekly': 7\n",
    "    }\n",
    "\n",
    "    for key, value in highs_and_lows.items():\n",
    "        group[f'{key}_Low'] = group.Close.rolling(window=value).min()\n",
    "        group[f'{key}_High'] = group.Close.rolling(window=value).max()\n",
    "        \n",
    "        group[f'percent_above_{key}_low'] = round((((group.Close - group[f'{key}_Low']) / group[f'{key}_Low']) * 100), 2)\n",
    "        group[f'percent_below_{key}_high'] = round((((group[f'{key}_High'] - group.Close) / group[f'{key}_High']) * 100), 2)\n",
    "\n",
    "    for key, _ in highs_and_lows.items():\n",
    "        group = group.drop([f'{key}_Low', f'{key}_High'], axis=1)\n",
    "    \n",
    "    window=364\n",
    "    group['DX'] = talib.DX(group['High'], group['Low'], group['Close'], timeperiod=14) # Directional Flow Index\n",
    "    group['MFI'] = talib.MFI(group['High'], group.Low, group.Close, group.Volume, timeperiod=14) # Money Flow Index\n",
    "    group['PPO'] = talib.PPO(group.Close, fastperiod=12, slowperiod=26, matype=0) # 12/26 Day Percent Price Oscillator\n",
    "    slowk, slowd = talib.STOCH(group.High, group.Low, group.Close, fastk_period=5, slowk_period=3, slowk_matype=0, slowd_period=3, slowd_matype=0) # Default settings for stochastic oscillator\n",
    "    group['slowk'], group['slowd'] = slowk, slowd\n",
    "    group['Trendline'] = talib.LINEARREG_SLOPE(group.Close, timeperiod=window) # 52-Week Trendline\n",
    "    group['EMA'] = talib.EMA(group['Close'], timeperiod=14)\n",
    "    up, mid, low = talib.BBANDS(group['Close'])\n",
    "    group['BB_up'], group['BB_mid'], group['BB_low'] = up, mid, low\n",
    "    group['distanceToEMA'] = group['Close'] - group['EMA']\n",
    "    #group['candle_type'] = (group['Close'] > group['Open']).astype(int)\n",
    "\n",
    "    group.drop(['Close', 'Volume', 'Open', 'High', 'Low'], axis=1, inplace=True)\n",
    "\n",
    "    return group"
   ]
  },
  {
   "cell_type": "code",
   "execution_count": null,
   "id": "b4316fe5-a45d-46c7-9125-34b02b731df4",
   "metadata": {},
   "outputs": [],
   "source": [
    "364//12"
   ]
  },
  {
   "cell_type": "code",
   "execution_count": null,
   "id": "74dd75d8-bb26-4e4c-911a-3986cc0f4f59",
   "metadata": {},
   "outputs": [],
   "source": [
    "ta_data = None"
   ]
  },
  {
   "cell_type": "code",
   "execution_count": null,
   "id": "9724b208-d1c4-4af1-8e80-bb24472cde52",
   "metadata": {},
   "outputs": [],
   "source": [
    "ta_data"
   ]
  },
  {
   "cell_type": "code",
   "execution_count": 5,
   "id": "72830114-7814-4912-9249-7bfe3323b32e",
   "metadata": {},
   "outputs": [],
   "source": [
    "ta_data = rdata.groupby(level='asset').apply(apply_ta_indicators)"
   ]
  },
  {
   "cell_type": "code",
   "execution_count": 6,
   "id": "49a5d78f-7e33-43b2-b0d5-092714e94d11",
   "metadata": {},
   "outputs": [],
   "source": [
    "ta_data = ta_data.reset_index(level=1).drop('asset', axis=1)"
   ]
  },
  {
   "cell_type": "code",
   "execution_count": null,
   "id": "6c4058e6-7b7c-489c-9d72-28a66ad4863a",
   "metadata": {},
   "outputs": [],
   "source": [
    "pd.set_option('display.max_columns', None)"
   ]
  },
  {
   "cell_type": "code",
   "execution_count": null,
   "id": "160ec099-38a2-4c70-b5c9-32639a76625f",
   "metadata": {},
   "outputs": [],
   "source": [
    "ta_data.head(25)"
   ]
  },
  {
   "cell_type": "code",
   "execution_count": null,
   "id": "0454bc71-2964-4230-a598-c610bc48dbf9",
   "metadata": {},
   "outputs": [],
   "source": [
    "ta_data.scaled_distanceToEMA.value_counts()"
   ]
  },
  {
   "cell_type": "markdown",
   "id": "7a01e637-d3e3-40e3-9390-3d413b042f7d",
   "metadata": {},
   "source": [
    "#### returns"
   ]
  },
  {
   "cell_type": "code",
   "execution_count": 7,
   "id": "688d41b8-d635-4510-8755-cf61b2452a3c",
   "metadata": {},
   "outputs": [],
   "source": [
    "outlier_cutoff = 0.01\n",
    "data = pd.DataFrame()\n",
    "lags = [1, 3, 7, 14, 30]\n",
    "\n",
    "for lag in lags:\n",
    "    data[f'returns_{lag}D'] = (close\n",
    "                              .pct_change(lag)\n",
    "                              .stack()\n",
    "                              .pipe(lambda x: x.clip(lower=x.quantile(outlier_cutoff),\n",
    "                                                    upper=x.quantile(1-outlier_cutoff)))\n",
    "                              .add(1)\n",
    "                              .pow(1/lag)\n",
    "                              .sub(1)\n",
    "                            )"
   ]
  },
  {
   "cell_type": "code",
   "execution_count": 8,
   "id": "0ea8f8da-01ac-4396-999d-8d791b3bb38f",
   "metadata": {},
   "outputs": [],
   "source": [
    "data = data.swaplevel()"
   ]
  },
  {
   "cell_type": "code",
   "execution_count": null,
   "id": "daac15f0-ed71-4275-ac86-91443acf66fa",
   "metadata": {},
   "outputs": [],
   "source": [
    "data.info()"
   ]
  },
  {
   "cell_type": "code",
   "execution_count": 10,
   "id": "3343c97a-cb92-4ec2-bd1f-39b50346193c",
   "metadata": {},
   "outputs": [],
   "source": [
    "for col in ta_data.columns:\n",
    "    data[col] = ta_data[col]"
   ]
  },
  {
   "cell_type": "code",
   "execution_count": null,
   "id": "2c80bd2e-e885-436e-952a-5f2f3e1e9b8d",
   "metadata": {},
   "outputs": [],
   "source": [
    "data.head()"
   ]
  },
  {
   "cell_type": "code",
   "execution_count": null,
   "id": "fafe3235-6048-4775-b1bf-cae36392d1e0",
   "metadata": {},
   "outputs": [],
   "source": [
    "data.info()"
   ]
  },
  {
   "cell_type": "code",
   "execution_count": null,
   "id": "d7aaefeb-c40d-4673-b654-00fdecbcff76",
   "metadata": {},
   "outputs": [],
   "source": []
  },
  {
   "cell_type": "code",
   "execution_count": 11,
   "id": "dbe719d7-665f-4ee6-bfb2-afa0d04debb3",
   "metadata": {},
   "outputs": [],
   "source": [
    "# momentum lags\n",
    "lags = [3, 7, 14, 30]\n",
    "for lag in lags:\n",
    "    data[f'momentum{lag}'] = data[f'returns_{lag}D'].sub(data.returns_1D)\n",
    "data['momentum_wk_month'] = data.returns_30D.sub(data.returns_7D)"
   ]
  },
  {
   "cell_type": "code",
   "execution_count": null,
   "id": "4a0c840e-1a34-4347-8acb-7539e50b58c9",
   "metadata": {},
   "outputs": [],
   "source": [
    "data.info()"
   ]
  },
  {
   "cell_type": "code",
   "execution_count": 12,
   "id": "35db873f-949b-4037-8c5d-b7b156401d0c",
   "metadata": {},
   "outputs": [
    {
     "name": "stdout",
     "output_type": "stream",
     "text": [
      "<class 'pandas.core.frame.DataFrame'>\n",
      "MultiIndex: 358864 entries, ('BTCUSDT', datetime.date(2017, 8, 18)) to ('ZRXUSDT', datetime.date(2023, 11, 22))\n",
      "Data columns (total 36 columns):\n",
      " #   Column                           Non-Null Count   Dtype  \n",
      "---  ------                           --------------   -----  \n",
      " 0   returns_1D                       358864 non-null  float64\n",
      " 1   returns_3D                       358152 non-null  float64\n",
      " 2   returns_7D                       356728 non-null  float64\n",
      " 3   returns_14D                      354243 non-null  float64\n",
      " 4   returns_30D                      348594 non-null  float64\n",
      " 5   percent_above_fiftyTwoWeek_low   227740 non-null  float64\n",
      " 6   percent_below_fiftyTwoWeek_high  227740 non-null  float64\n",
      " 7   percent_above_Quarterly_low      316942 non-null  float64\n",
      " 8   percent_below_Quarterly_high     316942 non-null  float64\n",
      " 9   percent_above_Monthly_low        338241 non-null  float64\n",
      " 10  percent_below_Monthly_high       338241 non-null  float64\n",
      " 11  percent_above_Weekly_low         346371 non-null  float64\n",
      " 12  percent_below_Weekly_high        346371 non-null  float64\n",
      " 13  DX                               343530 non-null  float64\n",
      " 14  MFI                              343530 non-null  float64\n",
      " 15  PPO                              339645 non-null  float64\n",
      " 16  slowk                            345660 non-null  float64\n",
      " 17  slowd                            345660 non-null  float64\n",
      " 18  Trendline                        227740 non-null  float64\n",
      " 19  EMA                              343885 non-null  float64\n",
      " 20  BB_up                            347083 non-null  float64\n",
      " 21  BB_mid                           347083 non-null  float64\n",
      " 22  BB_low                           347083 non-null  float64\n",
      " 23  distanceToEMA                    343885 non-null  float64\n",
      " 24  momentum3                        358152 non-null  float64\n",
      " 25  momentum7                        356728 non-null  float64\n",
      " 26  momentum14                       354243 non-null  float64\n",
      " 27  momentum30                       348594 non-null  float64\n",
      " 28  momentum_wk_month                348594 non-null  float64\n",
      " 29  returns_1D_t-1                   358508 non-null  float64\n",
      " 30  returns_1D_t-2                   358152 non-null  float64\n",
      " 31  returns_1D_t-3                   357796 non-null  float64\n",
      " 32  returns_1D_t-4                   357440 non-null  float64\n",
      " 33  returns_1D_t-5                   357084 non-null  float64\n",
      " 34  returns_1D_t-6                   356728 non-null  float64\n",
      " 35  returns_1D_t-7                   356373 non-null  float64\n",
      "dtypes: float64(36)\n",
      "memory usage: 100.0+ MB\n"
     ]
    }
   ],
   "source": [
    "for t in range(1, 8):\n",
    "    data[f'returns_1D_t-{t}'] = data.groupby(level='asset').returns_1D.shift(t)\n",
    "\n",
    "data.info()"
   ]
  },
  {
   "cell_type": "markdown",
   "id": "c3db9c3d-2190-4f71-bad0-eeb385bb64e3",
   "metadata": {},
   "source": [
    "### Target: Holding Periods"
   ]
  },
  {
   "cell_type": "code",
   "execution_count": 13,
   "id": "a586b23e-ccd5-4b3e-b6ff-19ac2f6537d3",
   "metadata": {},
   "outputs": [],
   "source": [
    "for t in [1, 3, 7, 14, 30]:\n",
    "    data[f'target_{t}D'] = data.groupby(level='asset')[f'returns_{t}D'].shift(-t)"
   ]
  },
  {
   "cell_type": "code",
   "execution_count": null,
   "id": "e3a9835d-f3f5-4bf4-a8ad-7a6b10978fe0",
   "metadata": {},
   "outputs": [],
   "source": [
    "data.info()"
   ]
  },
  {
   "cell_type": "code",
   "execution_count": null,
   "id": "21a40b3b-193b-4bcd-b196-72f7324a109f",
   "metadata": {},
   "outputs": [],
   "source": [
    "cols = [\n",
    "    'target_1D',\n",
    "    'target_3D',\n",
    "    'target_7D',\n",
    "    'returns_1D',\n",
    "    'returns_3D',\n",
    "    'returns_1D_t-1',\n",
    "    'returns_1D_t-3',\n",
    "    'returns_1D_t-7',\n",
    "]"
   ]
  },
  {
   "cell_type": "code",
   "execution_count": null,
   "id": "f4e93222-478b-4c10-9839-acf5ad94f670",
   "metadata": {},
   "outputs": [],
   "source": [
    "data[cols].dropna().sort_index().head(10)"
   ]
  },
  {
   "cell_type": "markdown",
   "id": "73d98ea7-9967-4336-97ef-1fd582aa6c58",
   "metadata": {},
   "source": [
    "#### Date Indicators"
   ]
  },
  {
   "cell_type": "code",
   "execution_count": 14,
   "id": "94eac7c9-31ea-45b0-911e-b61e3a72e331",
   "metadata": {},
   "outputs": [],
   "source": [
    "dates = pd.to_datetime(data.index.get_level_values('Date'))\n",
    "data['date'] = dates"
   ]
  },
  {
   "cell_type": "code",
   "execution_count": 15,
   "id": "0cdcacfe-45e5-474d-abe8-1caf40a22009",
   "metadata": {},
   "outputs": [],
   "source": [
    "data['month'] = dates.month\n",
    "data['weekday'] = dates.weekday\n",
    "#data['quarter'] = dates.quarter\n",
    "data['day'] = dates.day"
   ]
  },
  {
   "cell_type": "code",
   "execution_count": 16,
   "id": "cbd0f324-9ab8-4da9-8074-67e118220982",
   "metadata": {},
   "outputs": [
    {
     "data": {
      "text/html": [
       "<div>\n",
       "<style scoped>\n",
       "    .dataframe tbody tr th:only-of-type {\n",
       "        vertical-align: middle;\n",
       "    }\n",
       "\n",
       "    .dataframe tbody tr th {\n",
       "        vertical-align: top;\n",
       "    }\n",
       "\n",
       "    .dataframe thead th {\n",
       "        text-align: right;\n",
       "    }\n",
       "</style>\n",
       "<table border=\"1\" class=\"dataframe\">\n",
       "  <thead>\n",
       "    <tr style=\"text-align: right;\">\n",
       "      <th></th>\n",
       "      <th>asset</th>\n",
       "      <th>Date</th>\n",
       "      <th>returns_1D</th>\n",
       "      <th>returns_3D</th>\n",
       "      <th>returns_7D</th>\n",
       "      <th>returns_14D</th>\n",
       "      <th>returns_30D</th>\n",
       "      <th>percent_above_fiftyTwoWeek_low</th>\n",
       "      <th>percent_below_fiftyTwoWeek_high</th>\n",
       "      <th>percent_above_Quarterly_low</th>\n",
       "      <th>...</th>\n",
       "      <th>returns_1D_t-7</th>\n",
       "      <th>target_1D</th>\n",
       "      <th>target_3D</th>\n",
       "      <th>target_7D</th>\n",
       "      <th>target_14D</th>\n",
       "      <th>target_30D</th>\n",
       "      <th>date</th>\n",
       "      <th>month</th>\n",
       "      <th>weekday</th>\n",
       "      <th>day</th>\n",
       "    </tr>\n",
       "  </thead>\n",
       "  <tbody>\n",
       "    <tr>\n",
       "      <th>0</th>\n",
       "      <td>BTCUSDT</td>\n",
       "      <td>2017-08-18</td>\n",
       "      <td>-0.041238</td>\n",
       "      <td>NaN</td>\n",
       "      <td>NaN</td>\n",
       "      <td>NaN</td>\n",
       "      <td>NaN</td>\n",
       "      <td>NaN</td>\n",
       "      <td>NaN</td>\n",
       "      <td>NaN</td>\n",
       "      <td>...</td>\n",
       "      <td>NaN</td>\n",
       "      <td>0.007694</td>\n",
       "      <td>-0.007551</td>\n",
       "      <td>0.005887</td>\n",
       "      <td>0.011699</td>\n",
       "      <td>-0.003484</td>\n",
       "      <td>2017-08-18</td>\n",
       "      <td>8</td>\n",
       "      <td>4</td>\n",
       "      <td>18</td>\n",
       "    </tr>\n",
       "    <tr>\n",
       "      <th>1</th>\n",
       "      <td>ETHUSDT</td>\n",
       "      <td>2017-08-18</td>\n",
       "      <td>-0.026623</td>\n",
       "      <td>NaN</td>\n",
       "      <td>NaN</td>\n",
       "      <td>NaN</td>\n",
       "      <td>NaN</td>\n",
       "      <td>NaN</td>\n",
       "      <td>NaN</td>\n",
       "      <td>NaN</td>\n",
       "      <td>...</td>\n",
       "      <td>NaN</td>\n",
       "      <td>-0.010376</td>\n",
       "      <td>0.032210</td>\n",
       "      <td>0.015439</td>\n",
       "      <td>0.020110</td>\n",
       "      <td>-0.004398</td>\n",
       "      <td>2017-08-18</td>\n",
       "      <td>8</td>\n",
       "      <td>4</td>\n",
       "      <td>18</td>\n",
       "    </tr>\n",
       "    <tr>\n",
       "      <th>2</th>\n",
       "      <td>BTCUSDT</td>\n",
       "      <td>2017-08-19</td>\n",
       "      <td>0.007694</td>\n",
       "      <td>NaN</td>\n",
       "      <td>NaN</td>\n",
       "      <td>NaN</td>\n",
       "      <td>NaN</td>\n",
       "      <td>NaN</td>\n",
       "      <td>NaN</td>\n",
       "      <td>NaN</td>\n",
       "      <td>...</td>\n",
       "      <td>NaN</td>\n",
       "      <td>-0.012969</td>\n",
       "      <td>-0.008116</td>\n",
       "      <td>0.006678</td>\n",
       "      <td>0.005528</td>\n",
       "      <td>-0.000856</td>\n",
       "      <td>2017-08-19</td>\n",
       "      <td>8</td>\n",
       "      <td>5</td>\n",
       "      <td>19</td>\n",
       "    </tr>\n",
       "    <tr>\n",
       "      <th>3</th>\n",
       "      <td>ETHUSDT</td>\n",
       "      <td>2017-08-19</td>\n",
       "      <td>-0.010376</td>\n",
       "      <td>NaN</td>\n",
       "      <td>NaN</td>\n",
       "      <td>NaN</td>\n",
       "      <td>NaN</td>\n",
       "      <td>NaN</td>\n",
       "      <td>NaN</td>\n",
       "      <td>NaN</td>\n",
       "      <td>...</td>\n",
       "      <td>NaN</td>\n",
       "      <td>0.028153</td>\n",
       "      <td>0.021192</td>\n",
       "      <td>0.018522</td>\n",
       "      <td>0.011864</td>\n",
       "      <td>0.000417</td>\n",
       "      <td>2017-08-19</td>\n",
       "      <td>8</td>\n",
       "      <td>5</td>\n",
       "      <td>19</td>\n",
       "    </tr>\n",
       "    <tr>\n",
       "      <th>4</th>\n",
       "      <td>BTCUSDT</td>\n",
       "      <td>2017-08-20</td>\n",
       "      <td>-0.012969</td>\n",
       "      <td>-0.015709</td>\n",
       "      <td>NaN</td>\n",
       "      <td>NaN</td>\n",
       "      <td>NaN</td>\n",
       "      <td>NaN</td>\n",
       "      <td>NaN</td>\n",
       "      <td>NaN</td>\n",
       "      <td>...</td>\n",
       "      <td>NaN</td>\n",
       "      <td>-0.017201</td>\n",
       "      <td>0.002256</td>\n",
       "      <td>0.007644</td>\n",
       "      <td>0.007057</td>\n",
       "      <td>-0.001469</td>\n",
       "      <td>2017-08-20</td>\n",
       "      <td>8</td>\n",
       "      <td>6</td>\n",
       "      <td>20</td>\n",
       "    </tr>\n",
       "  </tbody>\n",
       "</table>\n",
       "<p>5 rows × 47 columns</p>\n",
       "</div>"
      ],
      "text/plain": [
       "     asset        Date  returns_1D  returns_3D  returns_7D  returns_14D  \\\n",
       "0  BTCUSDT  2017-08-18   -0.041238         NaN         NaN          NaN   \n",
       "1  ETHUSDT  2017-08-18   -0.026623         NaN         NaN          NaN   \n",
       "2  BTCUSDT  2017-08-19    0.007694         NaN         NaN          NaN   \n",
       "3  ETHUSDT  2017-08-19   -0.010376         NaN         NaN          NaN   \n",
       "4  BTCUSDT  2017-08-20   -0.012969   -0.015709         NaN          NaN   \n",
       "\n",
       "   returns_30D  percent_above_fiftyTwoWeek_low  \\\n",
       "0          NaN                             NaN   \n",
       "1          NaN                             NaN   \n",
       "2          NaN                             NaN   \n",
       "3          NaN                             NaN   \n",
       "4          NaN                             NaN   \n",
       "\n",
       "   percent_below_fiftyTwoWeek_high  percent_above_Quarterly_low  ...  \\\n",
       "0                              NaN                          NaN  ...   \n",
       "1                              NaN                          NaN  ...   \n",
       "2                              NaN                          NaN  ...   \n",
       "3                              NaN                          NaN  ...   \n",
       "4                              NaN                          NaN  ...   \n",
       "\n",
       "   returns_1D_t-7  target_1D  target_3D  target_7D  target_14D  target_30D  \\\n",
       "0             NaN   0.007694  -0.007551   0.005887    0.011699   -0.003484   \n",
       "1             NaN  -0.010376   0.032210   0.015439    0.020110   -0.004398   \n",
       "2             NaN  -0.012969  -0.008116   0.006678    0.005528   -0.000856   \n",
       "3             NaN   0.028153   0.021192   0.018522    0.011864    0.000417   \n",
       "4             NaN  -0.017201   0.002256   0.007644    0.007057   -0.001469   \n",
       "\n",
       "        date  month  weekday  day  \n",
       "0 2017-08-18      8        4   18  \n",
       "1 2017-08-18      8        4   18  \n",
       "2 2017-08-19      8        5   19  \n",
       "3 2017-08-19      8        5   19  \n",
       "4 2017-08-20      8        6   20  \n",
       "\n",
       "[5 rows x 47 columns]"
      ]
     },
     "execution_count": 16,
     "metadata": {},
     "output_type": "execute_result"
    }
   ],
   "source": [
    "data = data.reset_index()\n",
    "data.head()"
   ]
  },
  {
   "cell_type": "code",
   "execution_count": 17,
   "id": "8c529191-123c-47c8-a355-7cd448038420",
   "metadata": {},
   "outputs": [],
   "source": [
    "data = data.drop('Date', axis=1)"
   ]
  },
  {
   "cell_type": "code",
   "execution_count": 18,
   "id": "12b4f2a9-c850-435d-8b17-7659252b6814",
   "metadata": {},
   "outputs": [],
   "source": [
    "data.rename(columns={'date': 'Date'}, inplace=True)"
   ]
  },
  {
   "cell_type": "code",
   "execution_count": null,
   "id": "723c8fc1-4470-4e2b-9295-b777dc7234ad",
   "metadata": {},
   "outputs": [],
   "source": [
    "data.columns"
   ]
  },
  {
   "cell_type": "code",
   "execution_count": 19,
   "id": "7c997c9a-73f1-4f92-b76c-ed6d094be650",
   "metadata": {},
   "outputs": [],
   "source": [
    "data.set_index(['asset', 'Date'], inplace=True)"
   ]
  },
  {
   "cell_type": "code",
   "execution_count": null,
   "id": "0f947242-7d59-4ad4-9c5f-6e1931bce804",
   "metadata": {},
   "outputs": [],
   "source": [
    "data.info()"
   ]
  },
  {
   "cell_type": "code",
   "execution_count": null,
   "id": "30804760-886b-4582-8ef7-d2bab2d83560",
   "metadata": {},
   "outputs": [],
   "source": [
    "test = pd.DataFrame()\n",
    "cats = ['month', 'weekday', 'day']\n",
    "\n",
    "for cat in cats:\n",
    "    test[cat] = pd.factorize(data[cat])[0]\n",
    "\n",
    "test.info()"
   ]
  },
  {
   "cell_type": "code",
   "execution_count": null,
   "id": "d96721a6-1d0a-478f-accc-f58669d20329",
   "metadata": {},
   "outputs": [],
   "source": [
    "for i in range(30):\n",
    "    print((test.month[i], test.weekday[i], test.day[i]), (data.month[i], data.weekday[i], data.day[i]))"
   ]
  },
  {
   "cell_type": "code",
   "execution_count": null,
   "id": "adf4b5ae-49c1-4eea-be02-ba15687ef2b7",
   "metadata": {},
   "outputs": [],
   "source": [
    "print()"
   ]
  },
  {
   "cell_type": "code",
   "execution_count": 20,
   "id": "9b14fca0-c328-4ee3-bc71-114e30cfc84f",
   "metadata": {},
   "outputs": [],
   "source": [
    "data = data.dropna()\n",
    "#data.head()"
   ]
  },
  {
   "cell_type": "code",
   "execution_count": 21,
   "id": "a46b4967-4e65-4ddd-970c-ac9beaac02ac",
   "metadata": {},
   "outputs": [
    {
     "name": "stdout",
     "output_type": "stream",
     "text": [
      "data before duplicated: {} 219062\n",
      "data after removing duplicate: {} 219062\n"
     ]
    }
   ],
   "source": [
    "print('data before duplicated: {}', len(data))\n",
    "data = data[~data.index.duplicated()]\n",
    "print('data after removing duplicate: {}', len(data))"
   ]
  },
  {
   "cell_type": "code",
   "execution_count": null,
   "id": "efa6bd6d-20eb-4469-bc1b-c3c3b65381bb",
   "metadata": {},
   "outputs": [],
   "source": []
  },
  {
   "cell_type": "code",
   "execution_count": 22,
   "id": "256ac24d-7f27-453a-8a22-5bd941490249",
   "metadata": {},
   "outputs": [
    {
     "name": "stdout",
     "output_type": "stream",
     "text": [
      "number of assets before removing minimum obs: 304\n",
      "number of assets after removing minimum obs: 239\n",
      "<class 'pandas.core.frame.DataFrame'>\n",
      "MultiIndex: 203583 entries, ('1INCHUSDT', Timestamp('2021-12-23 00:00:00')) to ('ZRXUSDT', Timestamp('2023-10-23 00:00:00'))\n",
      "Data columns (total 44 columns):\n",
      " #   Column                           Non-Null Count   Dtype  \n",
      "---  ------                           --------------   -----  \n",
      " 0   returns_1D                       203583 non-null  float64\n",
      " 1   returns_3D                       203583 non-null  float64\n",
      " 2   returns_7D                       203583 non-null  float64\n",
      " 3   returns_14D                      203583 non-null  float64\n",
      " 4   returns_30D                      203583 non-null  float64\n",
      " 5   percent_above_fiftyTwoWeek_low   203583 non-null  float64\n",
      " 6   percent_below_fiftyTwoWeek_high  203583 non-null  float64\n",
      " 7   percent_above_Quarterly_low      203583 non-null  float64\n",
      " 8   percent_below_Quarterly_high     203583 non-null  float64\n",
      " 9   percent_above_Monthly_low        203583 non-null  float64\n",
      " 10  percent_below_Monthly_high       203583 non-null  float64\n",
      " 11  percent_above_Weekly_low         203583 non-null  float64\n",
      " 12  percent_below_Weekly_high        203583 non-null  float64\n",
      " 13  DX                               203583 non-null  float64\n",
      " 14  MFI                              203583 non-null  float64\n",
      " 15  PPO                              203583 non-null  float64\n",
      " 16  slowk                            203583 non-null  float64\n",
      " 17  slowd                            203583 non-null  float64\n",
      " 18  Trendline                        203583 non-null  float64\n",
      " 19  EMA                              203583 non-null  float64\n",
      " 20  BB_up                            203583 non-null  float64\n",
      " 21  BB_mid                           203583 non-null  float64\n",
      " 22  BB_low                           203583 non-null  float64\n",
      " 23  distanceToEMA                    203583 non-null  float64\n",
      " 24  momentum3                        203583 non-null  float64\n",
      " 25  momentum7                        203583 non-null  float64\n",
      " 26  momentum14                       203583 non-null  float64\n",
      " 27  momentum30                       203583 non-null  float64\n",
      " 28  momentum_wk_month                203583 non-null  float64\n",
      " 29  returns_1D_t-1                   203583 non-null  float64\n",
      " 30  returns_1D_t-2                   203583 non-null  float64\n",
      " 31  returns_1D_t-3                   203583 non-null  float64\n",
      " 32  returns_1D_t-4                   203583 non-null  float64\n",
      " 33  returns_1D_t-5                   203583 non-null  float64\n",
      " 34  returns_1D_t-6                   203583 non-null  float64\n",
      " 35  returns_1D_t-7                   203583 non-null  float64\n",
      " 36  target_1D                        203583 non-null  float64\n",
      " 37  target_3D                        203583 non-null  float64\n",
      " 38  target_7D                        203583 non-null  float64\n",
      " 39  target_14D                       203583 non-null  float64\n",
      " 40  target_30D                       203583 non-null  float64\n",
      " 41  month                            203583 non-null  int32  \n",
      " 42  weekday                          203583 non-null  int32  \n",
      " 43  day                              203583 non-null  int32  \n",
      "dtypes: float64(41), int32(3)\n",
      "memory usage: 66.9+ MB\n"
     ]
    }
   ],
   "source": [
    "# drop cryptos with less than 1 year observation\n",
    "min_obs = 365\n",
    "nobs = data.groupby(level='asset').size()\n",
    "keep = nobs[nobs>min_obs].index\n",
    "print(f\"number of assets before removing minimum obs: {data.index.get_level_values('asset').nunique()}\")\n",
    "data = data.loc[idx[keep,:], :]\n",
    "print(f\"number of assets after removing minimum obs: {data.index.get_level_values('asset').nunique()}\")\n",
    "data.info()"
   ]
  },
  {
   "cell_type": "code",
   "execution_count": 24,
   "id": "38640749-5ae4-4e51-951a-cf234586ea4e",
   "metadata": {},
   "outputs": [
    {
     "name": "stdout",
     "output_type": "stream",
     "text": [
      "<class 'pandas.io.pytables.HDFStore'>\n",
      "File path: ../DATA/crypto_.h5\n",
      "/crypto/data            frame        (shape->[203583,44])\n"
     ]
    }
   ],
   "source": [
    "with pd.HDFStore('../DATA/crypto_.h5') as store:\n",
    "    store.put('crypto/data', data)\n",
    "    print(store.info())"
   ]
  },
  {
   "cell_type": "code",
   "execution_count": null,
   "id": "df5f4be6-9367-42cb-8a00-c1196cb6c51f",
   "metadata": {},
   "outputs": [],
   "source": []
  },
  {
   "cell_type": "code",
   "execution_count": null,
   "id": "0a31a7c5-5e7d-4bfa-88c8-936f7106d9a6",
   "metadata": {},
   "outputs": [],
   "source": []
  },
  {
   "cell_type": "code",
   "execution_count": null,
   "id": "b96116e4-402e-403f-ab2c-b0930d4ef46b",
   "metadata": {},
   "outputs": [],
   "source": [
    "with pd.HDFStore(DATASTORE) as store:\n",
    "    print(store.info())"
   ]
  },
  {
   "cell_type": "code",
   "execution_count": null,
   "id": "f561e31b-974b-4d18-877f-09950359fb3f",
   "metadata": {},
   "outputs": [],
   "source": []
  }
 ],
 "metadata": {
  "kernelspec": {
   "display_name": "Python 3 (ipykernel)",
   "language": "python",
   "name": "python3"
  },
  "language_info": {
   "codemirror_mode": {
    "name": "ipython",
    "version": 3
   },
   "file_extension": ".py",
   "mimetype": "text/x-python",
   "name": "python",
   "nbconvert_exporter": "python",
   "pygments_lexer": "ipython3",
   "version": "3.9.17"
  }
 },
 "nbformat": 4,
 "nbformat_minor": 5
}
