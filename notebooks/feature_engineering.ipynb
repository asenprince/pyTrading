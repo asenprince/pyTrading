{
 "cells": [
  {
   "cell_type": "code",
   "execution_count": 1,
   "id": "0ee26884-6e4c-4043-8c17-f8f078ac0e6e",
   "metadata": {},
   "outputs": [],
   "source": [
    "%matplotlib inline\n",
    "import pandas as pd\n",
    "import numpy as np\n",
    "import matplotlib.pyplot as plt\n",
    "import seaborn as sns\n",
    "import warnings\n",
    "import talib\n",
    "import re\n",
    "\n",
    "warnings.filterwarnings('ignore')\n",
    "plt.style.use('fivethirtyeight')\n",
    "idx = pd.IndexSlice"
   ]
  },
  {
   "cell_type": "markdown",
   "id": "332ae5ca-8a38-4808-9cbd-1c4235af8dc5",
   "metadata": {},
   "source": [
    "datapath = '../DATA/data.parquet'"
   ]
  },
  {
   "cell_type": "code",
   "execution_count": 2,
   "id": "4ace6f0f-a7ae-4f3d-be04-73f3757a86ed",
   "metadata": {},
   "outputs": [],
   "source": [
    "DATASTORE = '../DATA/crypto.h5'"
   ]
  },
  {
   "cell_type": "code",
   "execution_count": 3,
   "id": "6ffa5f82-74af-4018-a4dd-454382fb514a",
   "metadata": {},
   "outputs": [],
   "source": [
    "with pd.HDFStore(DATASTORE) as store:\n",
    "    metadata = store['crypto/processed_metadata']\n",
    "    rdata = store['crypto/raw_data']\n",
    "    close = store['crypto/raw_data'].Close.unstack('asset')"
   ]
  },
  {
   "cell_type": "code",
   "execution_count": 4,
   "id": "1414f419-4b92-4d19-90b1-9f99cf35991f",
   "metadata": {},
   "outputs": [
    {
     "name": "stdout",
     "output_type": "stream",
     "text": [
      "<class 'pandas.core.frame.DataFrame'>\n",
      "MultiIndex: 348507 entries, ('USDCUSDT', datetime.date(2018, 12, 15)) to ('MFTUSDT', datetime.date(2023, 1, 3))\n",
      "Data columns (total 5 columns):\n",
      " #   Column  Non-Null Count   Dtype  \n",
      "---  ------  --------------   -----  \n",
      " 0   Open    348507 non-null  float64\n",
      " 1   High    348507 non-null  float64\n",
      " 2   Low     348507 non-null  float64\n",
      " 3   Close   348507 non-null  float64\n",
      " 4   Volume  348507 non-null  float64\n",
      "dtypes: float64(5)\n",
      "memory usage: 14.7+ MB\n"
     ]
    }
   ],
   "source": [
    "rdata.info()"
   ]
  },
  {
   "cell_type": "markdown",
   "id": "89c735d3-df4f-44c0-9b96-dd5334adcb07",
   "metadata": {},
   "source": [
    "#### talib indicators"
   ]
  },
  {
   "cell_type": "code",
   "execution_count": 4,
   "id": "f7007438-5d21-4c0d-aa39-a2b21b0d7957",
   "metadata": {},
   "outputs": [],
   "source": [
    "def apply_ta_indicators(group):\n",
    "    highs_and_lows = {\n",
    "        'fifty2Week': 364,\n",
    "        'Quarterly': 364//4,\n",
    "        'Monthly': 364//12,\n",
    "        'Weekly': 7\n",
    "    }\n",
    "\n",
    "    for key, value in highs_and_lows.items():\n",
    "        group[f'{key}_Low'] = group.Close.rolling(window=value).min()\n",
    "        group[f'{key}_High'] = group.Close.rolling(window=value).max()\n",
    "        \n",
    "        group[f'percent_above_{key}_low'] = round((((group.Close - group[f'{key}_Low']) / group[f'{key}_Low']) * 100), 2)\n",
    "        group[f'percent_below_{key}_high'] = round((((group[f'{key}_High'] - group.Close) / group[f'{key}_High']) * 100), 2)\n",
    "\n",
    "    for key, _ in highs_and_lows.items():\n",
    "        group = group.drop([f'{key}_Low', f'{key}_High'], axis=1)\n",
    "    \n",
    "    window=364\n",
    "    group['DX'] = talib.DX(group['High'], group['Low'], group['Close'], timeperiod=14) # Directional Flow Index\n",
    "    group['MFI'] = talib.MFI(group['High'], group.Low, group.Close, group.Volume, timeperiod=14) # Money Flow Index\n",
    "    group['PPO'] = talib.PPO(group.Close, fastperiod=12, slowperiod=26, matype=0) # 12/26 Day Percent Price Oscillator\n",
    "    slowk, slowd = talib.STOCH(group.High, group.Low, group.Close, fastk_period=5, slowk_period=3, slowk_matype=0, slowd_period=3, slowd_matype=0) # Default settings for stochastic oscillator\n",
    "    group['slowk'], group['slowd'] = slowk, slowd\n",
    "    group['Trendline'] = talib.LINEARREG_SLOPE(group.Close, timeperiod=window) # 52-Week Trendline\n",
    "    group['EMA'] = talib.EMA(group['Close'], timeperiod=14)\n",
    "    up, mid, low = talib.BBANDS(group['Close'])\n",
    "    group['BB_up'], group['BB_mid'], group['BB_low'] = up, mid, low\n",
    "    group['distanceToEMA'] = group['Close'] - group['EMA']\n",
    "\n",
    "    group.drop(['Close', 'Volume', 'Open', 'High', 'Low'], axis=1, inplace=True)\n",
    "    \n",
    "    return group"
   ]
  },
  {
   "cell_type": "code",
   "execution_count": 10,
   "id": "b4316fe5-a45d-46c7-9125-34b02b731df4",
   "metadata": {},
   "outputs": [
    {
     "data": {
      "text/plain": [
       "30"
      ]
     },
     "execution_count": 10,
     "metadata": {},
     "output_type": "execute_result"
    }
   ],
   "source": [
    "364//12"
   ]
  },
  {
   "cell_type": "code",
   "execution_count": 5,
   "id": "72830114-7814-4912-9249-7bfe3323b32e",
   "metadata": {},
   "outputs": [],
   "source": [
    "ta_data = rdata.groupby(level='asset').apply(apply_ta_indicators)"
   ]
  },
  {
   "cell_type": "code",
   "execution_count": 6,
   "id": "49a5d78f-7e33-43b2-b0d5-092714e94d11",
   "metadata": {},
   "outputs": [
    {
     "name": "stdout",
     "output_type": "stream",
     "text": [
      "<class 'pandas.core.frame.DataFrame'>\n",
      "MultiIndex: 348507 entries, ('USDCUSDT', datetime.date(2018, 12, 15)) to ('MFTUSDT', datetime.date(2023, 1, 3))\n",
      "Data columns (total 19 columns):\n",
      " #   Column                         Non-Null Count   Dtype  \n",
      "---  ------                         --------------   -----  \n",
      " 0   percent_above_fifty2Week_low   227740 non-null  float64\n",
      " 1   percent_below_fifty2Week_high  227740 non-null  float64\n",
      " 2   percent_above_Quarterly_low    316942 non-null  float64\n",
      " 3   percent_below_Quarterly_high   316942 non-null  float64\n",
      " 4   percent_above_Monthly_low      338241 non-null  float64\n",
      " 5   percent_below_Monthly_high     338241 non-null  float64\n",
      " 6   percent_above_Weekly_low       346371 non-null  float64\n",
      " 7   percent_below_Weekly_high      346371 non-null  float64\n",
      " 8   DX                             343530 non-null  float64\n",
      " 9   MFI                            343530 non-null  float64\n",
      " 10  PPO                            339645 non-null  float64\n",
      " 11  slowk                          345660 non-null  float64\n",
      " 12  slowd                          345660 non-null  float64\n",
      " 13  Trendline                      227740 non-null  float64\n",
      " 14  EMA                            343885 non-null  float64\n",
      " 15  BB_up                          347083 non-null  float64\n",
      " 16  BB_mid                         347083 non-null  float64\n",
      " 17  BB_low                         347083 non-null  float64\n",
      " 18  distanceToEMA                  343885 non-null  float64\n",
      "dtypes: float64(19)\n",
      "memory usage: 60.0+ MB\n"
     ]
    }
   ],
   "source": [
    "ta_data.info()"
   ]
  },
  {
   "cell_type": "code",
   "execution_count": null,
   "id": "54d3cea8-b224-4d79-bbe5-65cd65453848",
   "metadata": {},
   "outputs": [],
   "source": [
    "df.head()"
   ]
  },
  {
   "cell_type": "code",
   "execution_count": null,
   "id": "efabf6df-03a7-4a8d-808b-1c758de46aa8",
   "metadata": {},
   "outputs": [],
   "source": [
    "df.loc['BTCUSDT']['pcs'].tail()"
   ]
  },
  {
   "cell_type": "raw",
   "id": "1a8ed3ac-add0-4037-8653-cdb9802664d5",
   "metadata": {},
   "source": [
    "data['dx'] = talib.DX(rdata.High, rdata.Low, rdata.Close, timeperiod=14) # Directional Flow Index\n",
    "data['MFI'] = talib.MFI(rdata.High, rdata.Low, rdata.Close, rdata.Volume, timeperiod=14) # Money Flow Index\n",
    "data['PPO'] = talib.PPO(rdata.Close, fastperiod=12, slowperiod=26, matype=0) # 12/26 Day Percent Price Oscillator\n",
    "slowk, slowd = talib.STOCH(rdata.High, rdata.Low, rdata.Close) # stochastic oscillator\n",
    "data['slowk'] = slowk\n",
    "data['slowd'] = slowd\n",
    "data['trendline'] = talib.LINEARREG_SLOPE(rdata.Close, timeperiod=30) # 30-Day Trendline"
   ]
  },
  {
   "cell_type": "code",
   "execution_count": null,
   "id": "b9e5e4ee-9321-4516-b7a7-284042bf7962",
   "metadata": {},
   "outputs": [],
   "source": []
  },
  {
   "cell_type": "code",
   "execution_count": null,
   "id": "295f2e0a-cb9c-4197-8ff5-36f9cb94ac76",
   "metadata": {},
   "outputs": [],
   "source": [
    "ta_data.loc['BNBUSDT'].head(16)"
   ]
  },
  {
   "cell_type": "markdown",
   "id": "7a01e637-d3e3-40e3-9390-3d413b042f7d",
   "metadata": {},
   "source": [
    "#### returns"
   ]
  },
  {
   "cell_type": "code",
   "execution_count": 7,
   "id": "12f6d2ed-c780-482f-811f-4d9ffb679f5b",
   "metadata": {},
   "outputs": [],
   "source": [
    "returns = close.pct_change().stack().swaplevel()"
   ]
  },
  {
   "cell_type": "code",
   "execution_count": 8,
   "id": "22b9d866-2176-4136-8665-ad05a27b9b7a",
   "metadata": {},
   "outputs": [],
   "source": [
    "returns = (returns[returns.between(left=returns.quantile(.05), \n",
    "                                  right=returns.quantile(.95))].to_frame('returns'))"
   ]
  },
  {
   "cell_type": "code",
   "execution_count": 9,
   "id": "855fe1de-3683-4ec9-aebb-b90b366aad0e",
   "metadata": {},
   "outputs": [],
   "source": [
    "for col in list(ta_data.columns):\n",
    "    returns[col] = ta_data[col]"
   ]
  },
  {
   "cell_type": "code",
   "execution_count": null,
   "id": "d10f4119-34a6-45f3-9f23-1429b0d9a6cf",
   "metadata": {},
   "outputs": [],
   "source": []
  },
  {
   "cell_type": "code",
   "execution_count": null,
   "id": "54645e38-4145-4891-bcd5-dc66a7a9b671",
   "metadata": {},
   "outputs": [],
   "source": [
    "print(returns.loc['BNBUSDT', 'DX'].head(16), ta_data.loc['BNBUSDT', 'DX'].head(16))"
   ]
  },
  {
   "cell_type": "code",
   "execution_count": null,
   "id": "c82c168d-db11-4f2e-ac68-5303311a8d09",
   "metadata": {},
   "outputs": [],
   "source": [
    "returns.head()"
   ]
  },
  {
   "cell_type": "markdown",
   "id": "eff86bbd-68c8-45aa-8c07-882381b115a6",
   "metadata": {},
   "source": [
    "#### Lagged returns"
   ]
  },
  {
   "cell_type": "code",
   "execution_count": 10,
   "id": "72591990-9187-49c5-8b14-db9ef22f19f1",
   "metadata": {},
   "outputs": [],
   "source": [
    "for t in range(1, 8):\n",
    "    returns[f't-{t}'] = returns.groupby(level='asset').returns.shift(t)"
   ]
  },
  {
   "cell_type": "code",
   "execution_count": null,
   "id": "4d56fdde-1453-461f-b5da-ae0548f70561",
   "metadata": {},
   "outputs": [],
   "source": []
  },
  {
   "cell_type": "markdown",
   "id": "99e0c6bc-7b48-4d5e-ac5f-fd99046a10e4",
   "metadata": {},
   "source": [
    "#### Dummies"
   ]
  },
  {
   "cell_type": "code",
   "execution_count": 11,
   "id": "c80949c4-4ed4-4ec8-b98f-fdb1e1b11a3b",
   "metadata": {},
   "outputs": [],
   "source": [
    "dates = pd.to_datetime(returns.index.get_level_values('Date'))"
   ]
  },
  {
   "cell_type": "code",
   "execution_count": 12,
   "id": "b9737b26-6707-4a31-bff6-1df6b5f4a04d",
   "metadata": {},
   "outputs": [],
   "source": [
    "returns['month'] = dates.month\n",
    "returns['weekday'] = dates.weekday\n",
    "returns['day'] = dates.day"
   ]
  },
  {
   "cell_type": "code",
   "execution_count": 36,
   "id": "8cd0e3eb-cb98-4374-9de1-8e80f1eb4425",
   "metadata": {},
   "outputs": [],
   "source": [
    "returns = pd.get_dummies(returns, columns=['month', 'weekday', 'day'])"
   ]
  },
  {
   "cell_type": "code",
   "execution_count": null,
   "id": "5997b81e-e878-4720-b9f7-dfaf5619a6fe",
   "metadata": {},
   "outputs": [],
   "source": [
    "returns.info()"
   ]
  },
  {
   "cell_type": "markdown",
   "id": "38e8db42-fad6-401b-b658-c80a947ec164",
   "metadata": {},
   "source": [
    "##### Data V1 Processing"
   ]
  },
  {
   "cell_type": "code",
   "execution_count": 13,
   "id": "7d99ae80-2909-4727-b41d-ed1d1ab0aab6",
   "metadata": {},
   "outputs": [],
   "source": [
    "data_v1 = returns.copy()"
   ]
  },
  {
   "cell_type": "code",
   "execution_count": 39,
   "id": "3c8d1923-94f5-4196-a66e-25b5d21308cc",
   "metadata": {},
   "outputs": [
    {
     "name": "stdout",
     "output_type": "stream",
     "text": [
      "data before dropping na: 322976\n",
      "data after dropping na: 208848\n"
     ]
    }
   ],
   "source": [
    "print(f'data before dropping na: {len(data_v1)}')\n",
    "data_v1.dropna(inplace=True)\n",
    "print(f'data after dropping na: {len(data_v1)}')"
   ]
  },
  {
   "cell_type": "code",
   "execution_count": 14,
   "id": "f074fc8f-722b-4d90-a635-de8ac15de535",
   "metadata": {},
   "outputs": [
    {
     "name": "stdout",
     "output_type": "stream",
     "text": [
      "number of assets before removing minimum obs: 356\n",
      "number of assets after removing minimum obs: 336\n",
      "<class 'pandas.core.frame.DataFrame'>\n",
      "MultiIndex: 321133 entries, ('1INCHUSDT', datetime.date(2020, 12, 28)) to ('ZRXUSDT', datetime.date(2023, 11, 22))\n",
      "Data columns (total 37 columns):\n",
      " #   Column                         Non-Null Count   Dtype  \n",
      "---  ------                         --------------   -----  \n",
      " 0   returns                        321133 non-null  float64\n",
      " 1   percent_above_fifty2Week_low   208848 non-null  float64\n",
      " 2   percent_below_fifty2Week_high  208848 non-null  float64\n",
      " 3   percent_above_Quarterly_low    285850 non-null  float64\n",
      " 4   percent_below_Quarterly_high   285850 non-null  float64\n",
      " 5   percent_above_Monthly_low      303151 non-null  float64\n",
      " 6   percent_below_Monthly_high     303151 non-null  float64\n",
      " 7   percent_above_Weekly_low       309296 non-null  float64\n",
      " 8   percent_below_Weekly_high      309296 non-null  float64\n",
      " 9   DX                             307182 non-null  float64\n",
      " 10  MFI                            307182 non-null  float64\n",
      " 11  PPO                            304252 non-null  float64\n",
      " 12  slowk                          308791 non-null  float64\n",
      " 13  slowd                          308791 non-null  float64\n",
      " 14  Trendline                      208848 non-null  float64\n",
      " 15  EMA                            307458 non-null  float64\n",
      " 16  BB_up                          309796 non-null  float64\n",
      " 17  BB_mid                         309796 non-null  float64\n",
      " 18  BB_low                         309796 non-null  float64\n",
      " 19  distanceToEMA                  307458 non-null  float64\n",
      " 20  t-1                            320797 non-null  float64\n",
      " 21  t-2                            320461 non-null  float64\n",
      " 22  t-3                            320125 non-null  float64\n",
      " 23  t-4                            319789 non-null  float64\n",
      " 24  t-5                            319453 non-null  float64\n",
      " 25  t-6                            319117 non-null  float64\n",
      " 26  t-7                            318781 non-null  float64\n",
      " 27  t-8                            318445 non-null  float64\n",
      " 28  t-9                            318109 non-null  float64\n",
      " 29  t-10                           317773 non-null  float64\n",
      " 30  t-11                           317437 non-null  float64\n",
      " 31  t-12                           317101 non-null  float64\n",
      " 32  t-13                           316765 non-null  float64\n",
      " 33  t-14                           316429 non-null  float64\n",
      " 34  month                          321133 non-null  int64  \n",
      " 35  weekday                        321133 non-null  int64  \n",
      " 36  day                            321133 non-null  int64  \n",
      "dtypes: float64(34), int64(3)\n",
      "memory usage: 92.0+ MB\n"
     ]
    }
   ],
   "source": [
    "min_obs = 365*0.5\n",
    "nobs = data_v1.groupby(level='asset').size()\n",
    "keep = nobs[nobs>min_obs].index\n",
    "print(f\"number of assets before removing minimum obs: {data_v1.index.get_level_values('asset').nunique()}\")\n",
    "data_v1 = data_v1.loc[idx[keep,:], :]\n",
    "print(f\"number of assets after removing minimum obs: {data_v1.index.get_level_values('asset').nunique()}\")\n",
    "data_v1.info()"
   ]
  },
  {
   "cell_type": "code",
   "execution_count": 15,
   "id": "3fbc8c46-bb17-45fd-88fc-62533ed95606",
   "metadata": {},
   "outputs": [
    {
     "data": {
      "text/html": [
       "<div>\n",
       "<style scoped>\n",
       "    .dataframe tbody tr th:only-of-type {\n",
       "        vertical-align: middle;\n",
       "    }\n",
       "\n",
       "    .dataframe tbody tr th {\n",
       "        vertical-align: top;\n",
       "    }\n",
       "\n",
       "    .dataframe thead th {\n",
       "        text-align: right;\n",
       "    }\n",
       "</style>\n",
       "<table border=\"1\" class=\"dataframe\">\n",
       "  <thead>\n",
       "    <tr style=\"text-align: right;\">\n",
       "      <th></th>\n",
       "      <th></th>\n",
       "      <th>returns</th>\n",
       "      <th>percent_above_fifty2Week_low</th>\n",
       "      <th>percent_below_fifty2Week_high</th>\n",
       "      <th>percent_above_Quarterly_low</th>\n",
       "      <th>percent_below_Quarterly_high</th>\n",
       "      <th>percent_above_Monthly_low</th>\n",
       "      <th>percent_below_Monthly_high</th>\n",
       "      <th>percent_above_Weekly_low</th>\n",
       "      <th>percent_below_Weekly_high</th>\n",
       "      <th>DX</th>\n",
       "      <th>...</th>\n",
       "      <th>t-8</th>\n",
       "      <th>t-9</th>\n",
       "      <th>t-10</th>\n",
       "      <th>t-11</th>\n",
       "      <th>t-12</th>\n",
       "      <th>t-13</th>\n",
       "      <th>t-14</th>\n",
       "      <th>month</th>\n",
       "      <th>weekday</th>\n",
       "      <th>day</th>\n",
       "    </tr>\n",
       "    <tr>\n",
       "      <th>asset</th>\n",
       "      <th>Date</th>\n",
       "      <th></th>\n",
       "      <th></th>\n",
       "      <th></th>\n",
       "      <th></th>\n",
       "      <th></th>\n",
       "      <th></th>\n",
       "      <th></th>\n",
       "      <th></th>\n",
       "      <th></th>\n",
       "      <th></th>\n",
       "      <th></th>\n",
       "      <th></th>\n",
       "      <th></th>\n",
       "      <th></th>\n",
       "      <th></th>\n",
       "      <th></th>\n",
       "      <th></th>\n",
       "      <th></th>\n",
       "      <th></th>\n",
       "      <th></th>\n",
       "      <th></th>\n",
       "    </tr>\n",
       "  </thead>\n",
       "  <tbody>\n",
       "    <tr>\n",
       "      <th rowspan=\"5\" valign=\"top\">1INCHUSDT</th>\n",
       "      <th>2020-12-28</th>\n",
       "      <td>0.049755</td>\n",
       "      <td>NaN</td>\n",
       "      <td>NaN</td>\n",
       "      <td>NaN</td>\n",
       "      <td>NaN</td>\n",
       "      <td>NaN</td>\n",
       "      <td>NaN</td>\n",
       "      <td>NaN</td>\n",
       "      <td>NaN</td>\n",
       "      <td>NaN</td>\n",
       "      <td>...</td>\n",
       "      <td>NaN</td>\n",
       "      <td>NaN</td>\n",
       "      <td>NaN</td>\n",
       "      <td>NaN</td>\n",
       "      <td>NaN</td>\n",
       "      <td>NaN</td>\n",
       "      <td>NaN</td>\n",
       "      <td>12</td>\n",
       "      <td>0</td>\n",
       "      <td>28</td>\n",
       "    </tr>\n",
       "    <tr>\n",
       "      <th>2021-01-03</th>\n",
       "      <td>0.080976</td>\n",
       "      <td>NaN</td>\n",
       "      <td>NaN</td>\n",
       "      <td>NaN</td>\n",
       "      <td>NaN</td>\n",
       "      <td>NaN</td>\n",
       "      <td>NaN</td>\n",
       "      <td>25.27</td>\n",
       "      <td>18.75</td>\n",
       "      <td>NaN</td>\n",
       "      <td>...</td>\n",
       "      <td>NaN</td>\n",
       "      <td>NaN</td>\n",
       "      <td>NaN</td>\n",
       "      <td>NaN</td>\n",
       "      <td>NaN</td>\n",
       "      <td>NaN</td>\n",
       "      <td>NaN</td>\n",
       "      <td>1</td>\n",
       "      <td>6</td>\n",
       "      <td>3</td>\n",
       "    </tr>\n",
       "    <tr>\n",
       "      <th>2021-01-04</th>\n",
       "      <td>-0.068863</td>\n",
       "      <td>NaN</td>\n",
       "      <td>NaN</td>\n",
       "      <td>NaN</td>\n",
       "      <td>NaN</td>\n",
       "      <td>NaN</td>\n",
       "      <td>NaN</td>\n",
       "      <td>16.64</td>\n",
       "      <td>24.35</td>\n",
       "      <td>NaN</td>\n",
       "      <td>...</td>\n",
       "      <td>NaN</td>\n",
       "      <td>NaN</td>\n",
       "      <td>NaN</td>\n",
       "      <td>NaN</td>\n",
       "      <td>NaN</td>\n",
       "      <td>NaN</td>\n",
       "      <td>NaN</td>\n",
       "      <td>1</td>\n",
       "      <td>0</td>\n",
       "      <td>4</td>\n",
       "    </tr>\n",
       "    <tr>\n",
       "      <th>2021-01-08</th>\n",
       "      <td>-0.081857</td>\n",
       "      <td>NaN</td>\n",
       "      <td>NaN</td>\n",
       "      <td>NaN</td>\n",
       "      <td>NaN</td>\n",
       "      <td>NaN</td>\n",
       "      <td>NaN</td>\n",
       "      <td>15.78</td>\n",
       "      <td>21.41</td>\n",
       "      <td>23.756997</td>\n",
       "      <td>...</td>\n",
       "      <td>NaN</td>\n",
       "      <td>NaN</td>\n",
       "      <td>NaN</td>\n",
       "      <td>NaN</td>\n",
       "      <td>NaN</td>\n",
       "      <td>NaN</td>\n",
       "      <td>NaN</td>\n",
       "      <td>1</td>\n",
       "      <td>4</td>\n",
       "      <td>8</td>\n",
       "    </tr>\n",
       "    <tr>\n",
       "      <th>2021-01-09</th>\n",
       "      <td>0.047527</td>\n",
       "      <td>NaN</td>\n",
       "      <td>NaN</td>\n",
       "      <td>NaN</td>\n",
       "      <td>NaN</td>\n",
       "      <td>NaN</td>\n",
       "      <td>NaN</td>\n",
       "      <td>20.49</td>\n",
       "      <td>17.68</td>\n",
       "      <td>23.756997</td>\n",
       "      <td>...</td>\n",
       "      <td>NaN</td>\n",
       "      <td>NaN</td>\n",
       "      <td>NaN</td>\n",
       "      <td>NaN</td>\n",
       "      <td>NaN</td>\n",
       "      <td>NaN</td>\n",
       "      <td>NaN</td>\n",
       "      <td>1</td>\n",
       "      <td>5</td>\n",
       "      <td>9</td>\n",
       "    </tr>\n",
       "  </tbody>\n",
       "</table>\n",
       "<p>5 rows × 37 columns</p>\n",
       "</div>"
      ],
      "text/plain": [
       "                       returns  percent_above_fifty2Week_low  \\\n",
       "asset     Date                                                 \n",
       "1INCHUSDT 2020-12-28  0.049755                           NaN   \n",
       "          2021-01-03  0.080976                           NaN   \n",
       "          2021-01-04 -0.068863                           NaN   \n",
       "          2021-01-08 -0.081857                           NaN   \n",
       "          2021-01-09  0.047527                           NaN   \n",
       "\n",
       "                      percent_below_fifty2Week_high  \\\n",
       "asset     Date                                        \n",
       "1INCHUSDT 2020-12-28                            NaN   \n",
       "          2021-01-03                            NaN   \n",
       "          2021-01-04                            NaN   \n",
       "          2021-01-08                            NaN   \n",
       "          2021-01-09                            NaN   \n",
       "\n",
       "                      percent_above_Quarterly_low  \\\n",
       "asset     Date                                      \n",
       "1INCHUSDT 2020-12-28                          NaN   \n",
       "          2021-01-03                          NaN   \n",
       "          2021-01-04                          NaN   \n",
       "          2021-01-08                          NaN   \n",
       "          2021-01-09                          NaN   \n",
       "\n",
       "                      percent_below_Quarterly_high  percent_above_Monthly_low  \\\n",
       "asset     Date                                                                  \n",
       "1INCHUSDT 2020-12-28                           NaN                        NaN   \n",
       "          2021-01-03                           NaN                        NaN   \n",
       "          2021-01-04                           NaN                        NaN   \n",
       "          2021-01-08                           NaN                        NaN   \n",
       "          2021-01-09                           NaN                        NaN   \n",
       "\n",
       "                      percent_below_Monthly_high  percent_above_Weekly_low  \\\n",
       "asset     Date                                                               \n",
       "1INCHUSDT 2020-12-28                         NaN                       NaN   \n",
       "          2021-01-03                         NaN                     25.27   \n",
       "          2021-01-04                         NaN                     16.64   \n",
       "          2021-01-08                         NaN                     15.78   \n",
       "          2021-01-09                         NaN                     20.49   \n",
       "\n",
       "                      percent_below_Weekly_high         DX  ...  t-8  t-9  \\\n",
       "asset     Date                                              ...             \n",
       "1INCHUSDT 2020-12-28                        NaN        NaN  ...  NaN  NaN   \n",
       "          2021-01-03                      18.75        NaN  ...  NaN  NaN   \n",
       "          2021-01-04                      24.35        NaN  ...  NaN  NaN   \n",
       "          2021-01-08                      21.41  23.756997  ...  NaN  NaN   \n",
       "          2021-01-09                      17.68  23.756997  ...  NaN  NaN   \n",
       "\n",
       "                      t-10  t-11  t-12  t-13  t-14  month  weekday  day  \n",
       "asset     Date                                                           \n",
       "1INCHUSDT 2020-12-28   NaN   NaN   NaN   NaN   NaN     12        0   28  \n",
       "          2021-01-03   NaN   NaN   NaN   NaN   NaN      1        6    3  \n",
       "          2021-01-04   NaN   NaN   NaN   NaN   NaN      1        0    4  \n",
       "          2021-01-08   NaN   NaN   NaN   NaN   NaN      1        4    8  \n",
       "          2021-01-09   NaN   NaN   NaN   NaN   NaN      1        5    9  \n",
       "\n",
       "[5 rows x 37 columns]"
      ]
     },
     "execution_count": 15,
     "metadata": {},
     "output_type": "execute_result"
    }
   ],
   "source": [
    "data_v1.head()"
   ]
  },
  {
   "cell_type": "code",
   "execution_count": 16,
   "id": "e0403253-2df5-4188-8591-5164f2739aa3",
   "metadata": {},
   "outputs": [],
   "source": [
    "with pd.HDFStore(DATASTORE) as store:\n",
    "    store.put('crypto/data_v3', data_v1)"
   ]
  },
  {
   "cell_type": "code",
   "execution_count": 43,
   "id": "5c17416d-8f0a-47ca-bad7-2107cf8e83f5",
   "metadata": {},
   "outputs": [],
   "source": [
    "with pd.HDFStore(DATASTORE) as store:\n",
    "    store.put('crypto/data_v1', data_v1)"
   ]
  },
  {
   "cell_type": "code",
   "execution_count": null,
   "id": "f5c237d9-a00b-4db3-a23b-558076d37f55",
   "metadata": {},
   "outputs": [],
   "source": []
  },
  {
   "cell_type": "markdown",
   "id": "0a632843-6ab5-4313-9abc-07e2e93026d2",
   "metadata": {},
   "source": [
    "#### Factorized Data"
   ]
  },
  {
   "cell_type": "code",
   "execution_count": 7,
   "id": "0e9affcc-9ee4-40d4-98ce-9809303ddd25",
   "metadata": {},
   "outputs": [],
   "source": [
    "f_returns = close.pct_change().stack().swaplevel()"
   ]
  },
  {
   "cell_type": "code",
   "execution_count": 9,
   "id": "c485a21a-5dca-4849-a04b-6995bd049f48",
   "metadata": {},
   "outputs": [],
   "source": [
    "f_returns = (f_returns[f_returns.between(left=f_returns.quantile(.05), \n",
    "                                  right=f_returns.quantile(.95))].to_frame('returns'))"
   ]
  },
  {
   "cell_type": "code",
   "execution_count": 10,
   "id": "0555e110-1aa5-4660-935a-af71396edf64",
   "metadata": {},
   "outputs": [],
   "source": [
    "for col in list(ta_data.columns):\n",
    "    f_returns[col] = ta_data[col]"
   ]
  },
  {
   "cell_type": "code",
   "execution_count": 11,
   "id": "6793d909-b1d3-4d09-8c8a-7dce092cfe20",
   "metadata": {},
   "outputs": [],
   "source": [
    "for t in range(1, 15):\n",
    "    f_returns[f't-{t}'] = f_returns.groupby(level='asset').returns.shift(t)"
   ]
  },
  {
   "cell_type": "code",
   "execution_count": null,
   "id": "1e57f17e-b698-4a71-a252-b468d5d2812a",
   "metadata": {},
   "outputs": [],
   "source": [
    "def factorize_cats(cats)"
   ]
  },
  {
   "cell_type": "code",
   "execution_count": null,
   "id": "f0a548e7-d02c-452b-8fb3-a3e17560a754",
   "metadata": {},
   "outputs": [],
   "source": []
  },
  {
   "cell_type": "code",
   "execution_count": null,
   "id": "67c2b476-80c5-4929-9955-62d44cdac5df",
   "metadata": {},
   "outputs": [],
   "source": []
  },
  {
   "cell_type": "code",
   "execution_count": null,
   "id": "3fe7cfec-e261-4e80-b02c-cf2f39b4b54b",
   "metadata": {},
   "outputs": [],
   "source": []
  },
  {
   "cell_type": "code",
   "execution_count": null,
   "id": "46204ab7-59d4-4533-a429-b0f590e86ccc",
   "metadata": {},
   "outputs": [],
   "source": []
  },
  {
   "cell_type": "markdown",
   "id": "c7a4ed71-3be9-4451-b776-283fcd1f2f56",
   "metadata": {},
   "source": [
    "### Get Crypto Xtics through metadata"
   ]
  },
  {
   "cell_type": "code",
   "execution_count": 44,
   "id": "d675d92f-9f27-47cf-99a2-736f60411a2c",
   "metadata": {},
   "outputs": [
    {
     "data": {
      "text/plain": [
       "asset\n",
       "BTCUSDT    714288494324\n",
       "ETHUSDT    238817767826\n",
       "BNBUSDT     37749200414\n",
       "XRPUSDT     33423459069\n",
       "SOLUSDT     25160865365\n",
       "Name: market_cap, dtype: int64"
      ]
     },
     "execution_count": 44,
     "metadata": {},
     "output_type": "execute_result"
    }
   ],
   "source": [
    "metadata.market_cap.head()"
   ]
  },
  {
   "cell_type": "code",
   "execution_count": 45,
   "id": "b54eb89a-baac-41e8-86c7-d45192055745",
   "metadata": {},
   "outputs": [],
   "source": [
    "metadata['size'] = pd.qcut(metadata.market_cap, q=10, labels=list(range(1, 11)))\n",
    "metadata.drop(['market_cap'], axis=1, inplace=True)"
   ]
  },
  {
   "cell_type": "code",
   "execution_count": 46,
   "id": "99c10dc3-a8e9-454c-99f6-67784d13e6a9",
   "metadata": {},
   "outputs": [
    {
     "name": "stdout",
     "output_type": "stream",
     "text": [
      "<class 'pandas.core.frame.DataFrame'>\n",
      "Index: 356 entries, BTCUSDT to OAXUSDT\n",
      "Data columns (total 2 columns):\n",
      " #   Column    Non-Null Count  Dtype   \n",
      "---  ------    --------------  -----   \n",
      " 0   size      356 non-null    category\n",
      " 1   category  356 non-null    object  \n",
      "dtypes: category(1), object(1)\n",
      "memory usage: 6.3+ KB\n"
     ]
    }
   ],
   "source": [
    "metadata = metadata[['size', 'category']]\n",
    "metadata.info()"
   ]
  },
  {
   "cell_type": "markdown",
   "id": "25062b16-4d90-4747-b004-50b0f8564276",
   "metadata": {
    "jp-MarkdownHeadingCollapsed": true
   },
   "source": [
    "#### create dummies for size"
   ]
  },
  {
   "cell_type": "code",
   "execution_count": 47,
   "id": "6178a394-a26b-4229-8fa3-7ecfd8d72b4f",
   "metadata": {},
   "outputs": [
    {
     "name": "stdout",
     "output_type": "stream",
     "text": [
      "<class 'pandas.core.frame.DataFrame'>\n",
      "Index: 356 entries, BTCUSDT to OAXUSDT\n",
      "Data columns (total 11 columns):\n",
      " #   Column    Non-Null Count  Dtype \n",
      "---  ------    --------------  ----- \n",
      " 0   category  356 non-null    object\n",
      " 1   size_1    356 non-null    uint8 \n",
      " 2   size_2    356 non-null    uint8 \n",
      " 3   size_3    356 non-null    uint8 \n",
      " 4   size_4    356 non-null    uint8 \n",
      " 5   size_5    356 non-null    uint8 \n",
      " 6   size_6    356 non-null    uint8 \n",
      " 7   size_7    356 non-null    uint8 \n",
      " 8   size_8    356 non-null    uint8 \n",
      " 9   size_9    356 non-null    uint8 \n",
      " 10  size_10   356 non-null    uint8 \n",
      "dtypes: object(1), uint8(10)\n",
      "memory usage: 9.0+ KB\n"
     ]
    }
   ],
   "source": [
    "metadata = pd.get_dummies(metadata, columns=['size'],\n",
    "                         prefix = ['size'],\n",
    "                         prefix_sep=['_'])\n",
    "metadata.info()"
   ]
  },
  {
   "cell_type": "markdown",
   "id": "4faae718-4f79-4ba3-8f58-dfc23d1b4413",
   "metadata": {
    "jp-MarkdownHeadingCollapsed": true
   },
   "source": [
    "#### create dummies for categories"
   ]
  },
  {
   "cell_type": "code",
   "execution_count": 48,
   "id": "fc867605-4795-416c-baaa-1998d9892ac1",
   "metadata": {},
   "outputs": [],
   "source": [
    "cat_encoding = metadata.category.str.get_dummies(',')"
   ]
  },
  {
   "cell_type": "code",
   "execution_count": 49,
   "id": "7bd39479-be15-4ca5-aa4e-00d25d9776fb",
   "metadata": {},
   "outputs": [],
   "source": [
    "metadata = pd.concat([metadata, cat_encoding], axis=1)"
   ]
  },
  {
   "cell_type": "code",
   "execution_count": 50,
   "id": "e0d1a5da-e31f-48f1-b493-31a848ffca32",
   "metadata": {},
   "outputs": [],
   "source": [
    "pd.set_option('display.max_columns', None)"
   ]
  },
  {
   "cell_type": "code",
   "execution_count": null,
   "id": "ab816a67-ff09-435e-82d9-88daed2dd314",
   "metadata": {},
   "outputs": [],
   "source": []
  },
  {
   "cell_type": "code",
   "execution_count": 51,
   "id": "fdb5824b-e0bf-4f02-911c-c5c19c71879f",
   "metadata": {},
   "outputs": [
    {
     "name": "stdout",
     "output_type": "stream",
     "text": [
      "<class 'pandas.core.frame.DataFrame'>\n",
      "Index: 356 entries, BTCUSDT to OAXUSDT\n",
      "Columns: 173 entries, size_1 to zksync-ecosystem\n",
      "dtypes: int64(163), uint8(10)\n",
      "memory usage: 459.6+ KB\n"
     ]
    }
   ],
   "source": [
    "metadata.drop(['category'], axis=1, inplace=True)\n",
    "metadata.info()"
   ]
  },
  {
   "cell_type": "markdown",
   "id": "4fc1bf99-7524-42f9-9a25-911ca644cd48",
   "metadata": {},
   "source": [
    "#### Combine metadata and returns"
   ]
  },
  {
   "cell_type": "code",
   "execution_count": 52,
   "id": "eb02083c-7720-493b-9a5d-51341e743bc3",
   "metadata": {
    "scrolled": true
   },
   "outputs": [
    {
     "name": "stdout",
     "output_type": "stream",
     "text": [
      "<class 'pandas.core.frame.DataFrame'>\n",
      "MultiIndex: 208848 entries, ('1INCHUSDT', datetime.date(2021, 12, 24)) to ('ZRXUSDT', datetime.date(2023, 11, 22))\n",
      "Columns: 257 entries, returns to zksync-ecosystem\n",
      "dtypes: float64(34), int8(173), uint8(50)\n",
      "memory usage: 99.5+ MB\n"
     ]
    }
   ],
   "source": [
    "data = (returns\n",
    "       .reset_index('Date')\n",
    "       .merge(metadata, left_index=True, right_index=True)\n",
    "       .dropna()\n",
    "       .set_index('Date', append=True))\n",
    "\n",
    "s = len(returns.columns)\n",
    "\n",
    "data.iloc[:, s:] = data.iloc[:, s:].astype(int).apply(pd.to_numeric, downcast='integer')\n",
    "data.info()"
   ]
  },
  {
   "cell_type": "code",
   "execution_count": 53,
   "id": "2230e652-09b2-432b-a7c4-087adc287247",
   "metadata": {},
   "outputs": [
    {
     "name": "stdout",
     "output_type": "stream",
     "text": [
      "<class 'pandas.core.frame.DataFrame'>\n",
      "MultiIndex: 208848 entries, ('1INCHUSDT', datetime.date(2021, 12, 24)) to ('ZRXUSDT', datetime.date(2023, 11, 22))\n",
      "Columns: 257 entries, returns to zksync-ecosystem\n",
      "dtypes: float64(34), int8(173), uint8(50)\n",
      "memory usage: 99.5+ MB\n"
     ]
    }
   ],
   "source": [
    "data.dropna()\n",
    "data.info()"
   ]
  },
  {
   "cell_type": "code",
   "execution_count": null,
   "id": "3964bb24-da4d-46d7-afe4-b86957b964b7",
   "metadata": {},
   "outputs": [],
   "source": [
    "data.head()"
   ]
  },
  {
   "cell_type": "code",
   "execution_count": 54,
   "id": "95053b6a-a80d-4da0-83dc-e83e37e30ef9",
   "metadata": {},
   "outputs": [
    {
     "data": {
      "text/plain": [
       "307"
      ]
     },
     "execution_count": 54,
     "metadata": {},
     "output_type": "execute_result"
    }
   ],
   "source": [
    "data.index.get_level_values('asset').nunique()"
   ]
  },
  {
   "cell_type": "code",
   "execution_count": 55,
   "id": "84163a89-2b15-4827-9084-025185265db6",
   "metadata": {},
   "outputs": [
    {
     "name": "stdout",
     "output_type": "stream",
     "text": [
      "<class 'pandas.core.frame.DataFrame'>\n",
      "MultiIndex: 207362 entries, ('1INCHUSDT', datetime.date(2021, 12, 24)) to ('ZRXUSDT', datetime.date(2023, 11, 22))\n",
      "Columns: 257 entries, returns to zksync-ecosystem\n",
      "dtypes: float64(34), int8(173), uint8(50)\n",
      "memory usage: 98.8+ MB\n"
     ]
    }
   ],
   "source": [
    "min_obs = 365*0.5\n",
    "nobs = data.groupby(level='asset').size()\n",
    "keep = nobs[nobs>min_obs].index\n",
    "\n",
    "data = data.loc[idx[keep,:], :]\n",
    "data.info()"
   ]
  },
  {
   "cell_type": "code",
   "execution_count": 56,
   "id": "3186a1e5-5331-4cf5-bdcb-b0a9398df25c",
   "metadata": {},
   "outputs": [
    {
     "data": {
      "text/plain": [
       "288"
      ]
     },
     "execution_count": 56,
     "metadata": {},
     "output_type": "execute_result"
    }
   ],
   "source": [
    "data.index.get_level_values('asset').nunique()"
   ]
  },
  {
   "cell_type": "code",
   "execution_count": 58,
   "id": "4c274efc-a5b8-474e-b61b-25ad1dfb8830",
   "metadata": {},
   "outputs": [
    {
     "data": {
      "text/plain": [
       "Date\n",
       "2018-08-15    24.285306\n",
       "2018-08-16    24.285306\n",
       "2018-08-17    18.055109\n",
       "2018-08-18    15.968290\n",
       "2018-08-19    15.968290\n",
       "Name: DX, dtype: float64"
      ]
     },
     "execution_count": 58,
     "metadata": {},
     "output_type": "execute_result"
    }
   ],
   "source": [
    "data.loc['BTCUSDT', 'DX'].head()"
   ]
  },
  {
   "cell_type": "code",
   "execution_count": 59,
   "id": "5291c962-424d-442c-9e4a-60c85ad2cae6",
   "metadata": {},
   "outputs": [],
   "source": [
    "with pd.HDFStore(DATASTORE) as store:\n",
    "    store.put('crypto/data_v2', data)"
   ]
  },
  {
   "cell_type": "code",
   "execution_count": 61,
   "id": "d7a7322f-ac80-4f01-afd0-0735d573b1b9",
   "metadata": {},
   "outputs": [],
   "source": [
    "for x, y in zip(data.loc['BTCUSDT', 'Trendline'].head(20), ta_data.loc['BTCUSDT', 'Trendline'].dropna()):\n",
    "    if x != y:\n",
    "        print(x, y)"
   ]
  },
  {
   "cell_type": "code",
   "execution_count": 62,
   "id": "4ba018de-fdf2-45ef-b069-c9c89e1685c4",
   "metadata": {},
   "outputs": [],
   "source": [
    "with pd.HDFStore(DATASTORE) as store:\n",
    "    store.remove('crypto/engineered_features')"
   ]
  },
  {
   "cell_type": "code",
   "execution_count": 63,
   "id": "f991fc4b-b089-4aae-98fb-561c9527c309",
   "metadata": {},
   "outputs": [
    {
     "name": "stdout",
     "output_type": "stream",
     "text": [
      "<class 'pandas.io.pytables.HDFStore'>\n",
      "File path: ../DATA/crypto.h5\n",
      "/crypto/categories                    frame        (shape->[1,1])       \n",
      "/crypto/data                          frame                             \n",
      "/crypto/data_v1                       frame        (shape->[207362,84]) \n",
      "/crypto/data_v2                       frame        (shape->[207362,257])\n",
      "/crypto/metadata                      frame        (shape->[1,6])       \n",
      "/crypto/processed_metadata            frame        (shape->[356,7])     \n",
      "/crypto/raw_data                      frame        (shape->[348507,5])  \n"
     ]
    }
   ],
   "source": [
    "with pd.HDFStore(DATASTORE) as store:\n",
    "    print(store.info())"
   ]
  },
  {
   "cell_type": "code",
   "execution_count": null,
   "id": "f561e31b-974b-4d18-877f-09950359fb3f",
   "metadata": {},
   "outputs": [],
   "source": []
  }
 ],
 "metadata": {
  "kernelspec": {
   "display_name": "Python 3 (ipykernel)",
   "language": "python",
   "name": "python3"
  },
  "language_info": {
   "codemirror_mode": {
    "name": "ipython",
    "version": 3
   },
   "file_extension": ".py",
   "mimetype": "text/x-python",
   "name": "python",
   "nbconvert_exporter": "python",
   "pygments_lexer": "ipython3",
   "version": "3.9.17"
  }
 },
 "nbformat": 4,
 "nbformat_minor": 5
}
